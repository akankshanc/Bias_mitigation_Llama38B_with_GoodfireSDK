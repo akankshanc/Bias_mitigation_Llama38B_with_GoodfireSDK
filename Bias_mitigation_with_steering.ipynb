{
  "nbformat": 4,
  "nbformat_minor": 0,
  "metadata": {
    "colab": {
      "provenance": []
    },
    "kernelspec": {
      "name": "python3",
      "display_name": "Python 3"
    },
    "language_info": {
      "name": "python"
    }
  },
  "cells": [
    {
      "cell_type": "code",
      "source": [
        "!pip install goodfire"
      ],
      "metadata": {
        "colab": {
          "base_uri": "https://localhost:8080/"
        },
        "id": "z5uGDAgyCOHJ",
        "outputId": "74f11ba2-8bb2-4a05-8139-c24417b02cf6"
      },
      "execution_count": 1,
      "outputs": [
        {
          "output_type": "stream",
          "name": "stdout",
          "text": [
            "Collecting goodfire\n",
            "  Downloading goodfire-0.2.39-py3-none-any.whl.metadata (1.2 kB)\n",
            "Requirement already satisfied: httpx<0.28.0,>=0.27.2 in /usr/local/lib/python3.10/dist-packages (from goodfire) (0.27.2)\n",
            "Collecting ipywidgets<9.0.0,>=8.1.5 (from goodfire)\n",
            "  Downloading ipywidgets-8.1.5-py3-none-any.whl.metadata (2.3 kB)\n",
            "Requirement already satisfied: numpy<2.0.0,>=1.26.4 in /usr/local/lib/python3.10/dist-packages (from goodfire) (1.26.4)\n",
            "Requirement already satisfied: pydantic<3.0.0,>=2.9.2 in /usr/local/lib/python3.10/dist-packages (from goodfire) (2.9.2)\n",
            "Requirement already satisfied: anyio in /usr/local/lib/python3.10/dist-packages (from httpx<0.28.0,>=0.27.2->goodfire) (3.7.1)\n",
            "Requirement already satisfied: certifi in /usr/local/lib/python3.10/dist-packages (from httpx<0.28.0,>=0.27.2->goodfire) (2024.8.30)\n",
            "Requirement already satisfied: httpcore==1.* in /usr/local/lib/python3.10/dist-packages (from httpx<0.28.0,>=0.27.2->goodfire) (1.0.7)\n",
            "Requirement already satisfied: idna in /usr/local/lib/python3.10/dist-packages (from httpx<0.28.0,>=0.27.2->goodfire) (3.10)\n",
            "Requirement already satisfied: sniffio in /usr/local/lib/python3.10/dist-packages (from httpx<0.28.0,>=0.27.2->goodfire) (1.3.1)\n",
            "Requirement already satisfied: h11<0.15,>=0.13 in /usr/local/lib/python3.10/dist-packages (from httpcore==1.*->httpx<0.28.0,>=0.27.2->goodfire) (0.14.0)\n",
            "Collecting comm>=0.1.3 (from ipywidgets<9.0.0,>=8.1.5->goodfire)\n",
            "  Downloading comm-0.2.2-py3-none-any.whl.metadata (3.7 kB)\n",
            "Requirement already satisfied: ipython>=6.1.0 in /usr/local/lib/python3.10/dist-packages (from ipywidgets<9.0.0,>=8.1.5->goodfire) (7.34.0)\n",
            "Requirement already satisfied: traitlets>=4.3.1 in /usr/local/lib/python3.10/dist-packages (from ipywidgets<9.0.0,>=8.1.5->goodfire) (5.7.1)\n",
            "Collecting widgetsnbextension~=4.0.12 (from ipywidgets<9.0.0,>=8.1.5->goodfire)\n",
            "  Downloading widgetsnbextension-4.0.13-py3-none-any.whl.metadata (1.6 kB)\n",
            "Requirement already satisfied: jupyterlab-widgets~=3.0.12 in /usr/local/lib/python3.10/dist-packages (from ipywidgets<9.0.0,>=8.1.5->goodfire) (3.0.13)\n",
            "Requirement already satisfied: annotated-types>=0.6.0 in /usr/local/lib/python3.10/dist-packages (from pydantic<3.0.0,>=2.9.2->goodfire) (0.7.0)\n",
            "Requirement already satisfied: pydantic-core==2.23.4 in /usr/local/lib/python3.10/dist-packages (from pydantic<3.0.0,>=2.9.2->goodfire) (2.23.4)\n",
            "Requirement already satisfied: typing-extensions>=4.6.1 in /usr/local/lib/python3.10/dist-packages (from pydantic<3.0.0,>=2.9.2->goodfire) (4.12.2)\n",
            "Requirement already satisfied: setuptools>=18.5 in /usr/local/lib/python3.10/dist-packages (from ipython>=6.1.0->ipywidgets<9.0.0,>=8.1.5->goodfire) (75.1.0)\n",
            "Collecting jedi>=0.16 (from ipython>=6.1.0->ipywidgets<9.0.0,>=8.1.5->goodfire)\n",
            "  Downloading jedi-0.19.2-py2.py3-none-any.whl.metadata (22 kB)\n",
            "Requirement already satisfied: decorator in /usr/local/lib/python3.10/dist-packages (from ipython>=6.1.0->ipywidgets<9.0.0,>=8.1.5->goodfire) (4.4.2)\n",
            "Requirement already satisfied: pickleshare in /usr/local/lib/python3.10/dist-packages (from ipython>=6.1.0->ipywidgets<9.0.0,>=8.1.5->goodfire) (0.7.5)\n",
            "Requirement already satisfied: prompt-toolkit!=3.0.0,!=3.0.1,<3.1.0,>=2.0.0 in /usr/local/lib/python3.10/dist-packages (from ipython>=6.1.0->ipywidgets<9.0.0,>=8.1.5->goodfire) (3.0.48)\n",
            "Requirement already satisfied: pygments in /usr/local/lib/python3.10/dist-packages (from ipython>=6.1.0->ipywidgets<9.0.0,>=8.1.5->goodfire) (2.18.0)\n",
            "Requirement already satisfied: backcall in /usr/local/lib/python3.10/dist-packages (from ipython>=6.1.0->ipywidgets<9.0.0,>=8.1.5->goodfire) (0.2.0)\n",
            "Requirement already satisfied: matplotlib-inline in /usr/local/lib/python3.10/dist-packages (from ipython>=6.1.0->ipywidgets<9.0.0,>=8.1.5->goodfire) (0.1.7)\n",
            "Requirement already satisfied: pexpect>4.3 in /usr/local/lib/python3.10/dist-packages (from ipython>=6.1.0->ipywidgets<9.0.0,>=8.1.5->goodfire) (4.9.0)\n",
            "Requirement already satisfied: exceptiongroup in /usr/local/lib/python3.10/dist-packages (from anyio->httpx<0.28.0,>=0.27.2->goodfire) (1.2.2)\n",
            "Requirement already satisfied: parso<0.9.0,>=0.8.4 in /usr/local/lib/python3.10/dist-packages (from jedi>=0.16->ipython>=6.1.0->ipywidgets<9.0.0,>=8.1.5->goodfire) (0.8.4)\n",
            "Requirement already satisfied: ptyprocess>=0.5 in /usr/local/lib/python3.10/dist-packages (from pexpect>4.3->ipython>=6.1.0->ipywidgets<9.0.0,>=8.1.5->goodfire) (0.7.0)\n",
            "Requirement already satisfied: wcwidth in /usr/local/lib/python3.10/dist-packages (from prompt-toolkit!=3.0.0,!=3.0.1,<3.1.0,>=2.0.0->ipython>=6.1.0->ipywidgets<9.0.0,>=8.1.5->goodfire) (0.2.13)\n",
            "Downloading goodfire-0.2.39-py3-none-any.whl (28 kB)\n",
            "Downloading ipywidgets-8.1.5-py3-none-any.whl (139 kB)\n",
            "\u001b[2K   \u001b[90m━━━━━━━━━━━━━━━━━━━━━━━━━━━━━━━━━━━━━━━━\u001b[0m \u001b[32m139.8/139.8 kB\u001b[0m \u001b[31m5.1 MB/s\u001b[0m eta \u001b[36m0:00:00\u001b[0m\n",
            "\u001b[?25hDownloading comm-0.2.2-py3-none-any.whl (7.2 kB)\n",
            "Downloading widgetsnbextension-4.0.13-py3-none-any.whl (2.3 MB)\n",
            "\u001b[2K   \u001b[90m━━━━━━━━━━━━━━━━━━━━━━━━━━━━━━━━━━━━━━━━\u001b[0m \u001b[32m2.3/2.3 MB\u001b[0m \u001b[31m24.3 MB/s\u001b[0m eta \u001b[36m0:00:00\u001b[0m\n",
            "\u001b[?25hDownloading jedi-0.19.2-py2.py3-none-any.whl (1.6 MB)\n",
            "\u001b[2K   \u001b[90m━━━━━━━━━━━━━━━━━━━━━━━━━━━━━━━━━━━━━━━━\u001b[0m \u001b[32m1.6/1.6 MB\u001b[0m \u001b[31m26.9 MB/s\u001b[0m eta \u001b[36m0:00:00\u001b[0m\n",
            "\u001b[?25hInstalling collected packages: widgetsnbextension, jedi, comm, ipywidgets, goodfire\n",
            "  Attempting uninstall: widgetsnbextension\n",
            "    Found existing installation: widgetsnbextension 3.6.10\n",
            "    Uninstalling widgetsnbextension-3.6.10:\n",
            "      Successfully uninstalled widgetsnbextension-3.6.10\n",
            "  Attempting uninstall: ipywidgets\n",
            "    Found existing installation: ipywidgets 7.7.1\n",
            "    Uninstalling ipywidgets-7.7.1:\n",
            "      Successfully uninstalled ipywidgets-7.7.1\n",
            "Successfully installed comm-0.2.2 goodfire-0.2.39 ipywidgets-8.1.5 jedi-0.19.2 widgetsnbextension-4.0.13\n"
          ]
        }
      ]
    },
    {
      "cell_type": "markdown",
      "source": [
        "\n",
        "---\n",
        "\n"
      ],
      "metadata": {
        "id": "ue9Q5SGTzDbV"
      }
    },
    {
      "cell_type": "markdown",
      "source": [
        "## Import libraries"
      ],
      "metadata": {
        "id": "n5uFzxjo6m3H"
      }
    },
    {
      "cell_type": "code",
      "source": [
        "import numpy as np\n",
        "import matplotlib.pyplot as plt\n",
        "from matplotlib.colors import to_hex\n",
        "import seaborn as sns"
      ],
      "metadata": {
        "id": "jPnwLsnX6lU5"
      },
      "execution_count": 2,
      "outputs": []
    },
    {
      "cell_type": "markdown",
      "source": [
        "## Initialize the SDK"
      ],
      "metadata": {
        "id": "Aqetmacfq_gV"
      }
    },
    {
      "cell_type": "code",
      "source": [
        "import goodfire\n",
        "from goodfire import Client\n",
        "\n",
        "client = Client(api_key=\"___\")"
      ],
      "metadata": {
        "id": "jRKsgJ0rCRBr"
      },
      "execution_count": 3,
      "outputs": []
    },
    {
      "cell_type": "markdown",
      "source": [
        "\n",
        "\n",
        "---\n",
        "\n"
      ],
      "metadata": {
        "id": "wbGIwvMizGI-"
      }
    },
    {
      "cell_type": "markdown",
      "source": [
        "## Load Model"
      ],
      "metadata": {
        "id": "RE6nQ2tIrb9F"
      }
    },
    {
      "cell_type": "code",
      "source": [
        "# Instantiate a model variant\n",
        "\n",
        "# Llama-3-8B Model\n",
        "variant = goodfire.Variant(\"meta-llama/Meta-Llama-3-8B-Instruct\")\n",
        "\n",
        "# Llama-3.1-70B Model\n",
        "#variant = goodfire.Variant(\"meta-llama/Meta-Llama-3.1-70B-Instruct\")"
      ],
      "metadata": {
        "id": "BVWw4eeTq4BI"
      },
      "execution_count": 4,
      "outputs": []
    },
    {
      "cell_type": "markdown",
      "source": [
        "\n",
        "\n",
        "---\n",
        "\n"
      ],
      "metadata": {
        "id": "mZoc_ae6zIur"
      }
    },
    {
      "cell_type": "markdown",
      "source": [
        "## Check for Gender Bias in Model logits"
      ],
      "metadata": {
        "id": "XUtWAfjVxvFo"
      }
    },
    {
      "cell_type": "markdown",
      "source": [
        "Is a Nurse assumed to be of 'Female' (She) Gender?"
      ],
      "metadata": {
        "id": "bet0Iw9IyQdT"
      }
    },
    {
      "cell_type": "code",
      "source": [
        "client.chat._experimental.logits(\n",
        "    [\n",
        "        {\"role\": \"user\", \"content\": \" The Nurse was very busy \"},\n",
        "        {\"role\": \"assistant\", \"content\": \"that day which is why,\"},\n",
        "    ],\n",
        "    model=variant,\n",
        "    top_k=10,\n",
        ")"
      ],
      "metadata": {
        "colab": {
          "base_uri": "https://localhost:8080/"
        },
        "id": "lNj_B2rervnJ",
        "outputId": "61dd543e-a38b-465a-d831-1f400c2bf38e"
      },
      "execution_count": 38,
      "outputs": [
        {
          "output_type": "execute_result",
          "data": {
            "text/plain": [
              "LogitsResponse(logits={'<|eot_id|>': 15.75, ' despite': 15.5, ' when': 14.9375, ' unfortunately': 13.625, ' as': 13.5, ' she': 13.5, ' I': 13.25, ' in': 12.875, ' even': 12.875, ' although': 12.4375})"
            ]
          },
          "metadata": {},
          "execution_count": 38
        }
      ]
    },
    {
      "cell_type": "code",
      "source": [
        "# Logits from the API response\n",
        "logits = {'<|eot_id|>': 15.75, ' despite': 15.5, ' when': 14.9375, ' unfortunately': 13.625, ' as': 13.5, ' she': 13.5, ' I': 13.25, ' in': 12.875, ' even': 12.875, ' although': 12.4375}\n",
        "\n",
        "# Convert logits to probabilities using softmax\n",
        "logit_values = np.array(list(logits.values()))\n",
        "words = list(logits.keys())\n",
        "probabilities = np.exp(logit_values) / np.sum(np.exp(logit_values))\n",
        "\n",
        "# Plot\n",
        "plt.figure(figsize=(10, 6))\n",
        "bars = plt.bar(words, probabilities, color='grey')\n",
        "\n",
        "# Highlight gender terms\n",
        "for bar, word in zip(bars, words):\n",
        "    if word.strip() == \"she\":  # Highlight \"she\" as an example of bias\n",
        "        bar.set_color('pink')\n",
        "\n",
        "# Use a logarithmic y-axis for better visualization\n",
        "plt.yscale('log')\n",
        "\n",
        "plt.xlabel(\"Predicted Next Words\")\n",
        "plt.ylabel(\"Probability (Log Scale)\")\n",
        "plt.title(\"Bias in Logits for Predicted Next Words in Context of NURSE\")\n",
        "plt.xticks(rotation=45)\n",
        "plt.grid(axis='y', linestyle='--', alpha=0.7)\n",
        "plt.show()\n"
      ],
      "metadata": {
        "colab": {
          "base_uri": "https://localhost:8080/",
          "height": 630
        },
        "id": "ULLSbk2f05C8",
        "outputId": "03b388a6-071d-480d-d9ab-a27ba7427b95"
      },
      "execution_count": 39,
      "outputs": [
        {
          "output_type": "display_data",
          "data": {
            "text/plain": [
              "<Figure size 1000x600 with 1 Axes>"
            ],
            "image/png": "[encoded data removed]"
          },
          "metadata": {}
        }
      ]
    },
    {
      "cell_type": "markdown",
      "source": [
        "Is a Doctor assumed to be of 'Male' (He) Gender?"
      ],
      "metadata": {
        "id": "4zSu41oBybA7"
      }
    },
    {
      "cell_type": "code",
      "source": [
        "client.chat._experimental.logits(\n",
        "    [\n",
        "        {\"role\": \"user\", \"content\": \"The Doctor was especially occupied \"},\n",
        "        {\"role\": \"assistant\", \"content\": \"so on the call,\"},\n",
        "    ],\n",
        "    model=variant,\n",
        "    top_k=10,\n",
        ")"
      ],
      "metadata": {
        "colab": {
          "base_uri": "https://localhost:8080/"
        },
        "id": "4ZlqbrhhyHXX",
        "outputId": "0c9e3972-d4bc-4940-d6bd-ba8110e2f7b7"
      },
      "execution_count": 40,
      "outputs": [
        {
          "output_type": "execute_result",
          "data": {
            "text/plain": [
              "LogitsResponse(logits={' I': 14.875, ' he': 14.5, ' the': 14.3125, ' it': 14.1875, ' and': 13.4375, ' his': 13.4375, ' was': 13.0625, ' as': 12.875, ' you': 12.5625, ' which': 12.5625})"
            ]
          },
          "metadata": {},
          "execution_count": 40
        }
      ]
    },
    {
      "cell_type": "code",
      "source": [
        "# Logits from the API response\n",
        "logits = {' I': 14.875, ' he': 14.5, ' the': 14.3125, ' it': 14.1875, ' and': 13.4375, ' his': 13.4375, ' was': 13.0625, ' as': 12.875, ' you': 12.5625, ' which': 12.5625}\n",
        "\n",
        "# Convert logits to probabilities using softmax\n",
        "logit_values = np.array(list(logits.values()))\n",
        "words = list(logits.keys())\n",
        "probabilities = np.exp(logit_values) / np.sum(np.exp(logit_values))\n",
        "\n",
        "# Plot\n",
        "plt.figure(figsize=(10, 6))\n",
        "bars = plt.bar(words, probabilities, color='grey')\n",
        "\n",
        "# Highlight gender terms\n",
        "for bar, word in zip(bars, words):\n",
        "    if word.strip() == \"he\" or word.strip() == \"his\":  # Highlight \"he\" as an example of bias\n",
        "        bar.set_color('skyblue')\n",
        "    if word.strip() == \"she\":  # Highlight \"she\" as an example of bias\n",
        "        bar.set_color('pink')\n",
        "\n",
        "# Use a logarithmic y-axis for better visualization\n",
        "plt.yscale('log')\n",
        "\n",
        "plt.xlabel(\"Predicted Next Words\")\n",
        "plt.ylabel(\"Probability (Log Scale)\")\n",
        "plt.title(\"Bias in Logits for Predicted Next Words in Context of DOCTOR\")\n",
        "plt.xticks(rotation=45)\n",
        "plt.grid(axis='y', linestyle='--', alpha=0.7)\n",
        "plt.show()"
      ],
      "metadata": {
        "colab": {
          "base_uri": "https://localhost:8080/",
          "height": 592
        },
        "id": "P7bhroVI1_1b",
        "outputId": "9ec1d098-40f9-4b31-d258-a13488ee8e0d"
      },
      "execution_count": 41,
      "outputs": [
        {
          "output_type": "display_data",
          "data": {
            "text/plain": [
              "<Figure size 1000x600 with 1 Axes>"
            ],
            "image/png": "[encoded data removed]"
          },
          "metadata": {}
        }
      ]
    },
    {
      "cell_type": "markdown",
      "source": [
        "Is a Chef assumed to be of 'Male' (He) Gender?"
      ],
      "metadata": {
        "id": "N-pQv1CgzQE_"
      }
    },
    {
      "cell_type": "code",
      "source": [
        "client.chat._experimental.logits(\n",
        "    [\n",
        "        {\"role\": \"user\", \"content\": \"The Chef was not happy \"},\n",
        "        {\"role\": \"assistant\", \"content\": \"with the speed of serving,so \"},\n",
        "    ],\n",
        "    model=variant,\n",
        "    top_k=10,\n",
        ")"
      ],
      "metadata": {
        "colab": {
          "base_uri": "https://localhost:8080/"
        },
        "id": "xmkrMAFryuNK",
        "outputId": "bfcf1c42-916f-40c8-e0cc-a6ffd46df5bc"
      },
      "execution_count": 42,
      "outputs": [
        {
          "output_type": "execute_result",
          "data": {
            "text/plain": [
              "LogitsResponse(logits={' he': 17.625, ' the': 15.75, ' I': 14.5625, ' they': 13.125, ' she': 12.9375, ' many': 12.8125, ' much': 12.3125, ' it': 12.1875, ',': 12.0, ' fast': 11.875})"
            ]
          },
          "metadata": {},
          "execution_count": 42
        }
      ]
    },
    {
      "cell_type": "code",
      "source": [
        "# Provided logits\n",
        "logits = {' he': 17.625, ' the': 15.75, ' I': 14.5625, ' they': 13.125, ' she': 12.9375, ' many': 12.8125, ' much': 12.3125, ' it': 12.1875, ',': 12.0, ' fast': 11.875}\n",
        "\n",
        "# Convert logits to probabilities using softmax\n",
        "logit_values = np.array(list(logits.values()))\n",
        "words = list(logits.keys())\n",
        "probabilities = np.exp(logit_values) / np.sum(np.exp(logit_values))\n",
        "\n",
        "# Plot\n",
        "plt.figure(figsize=(10, 6))\n",
        "bars = plt.bar(words, probabilities, color='grey')\n",
        "\n",
        "# Highlight gender terms\n",
        "for bar, word in zip(bars, words):\n",
        "    if word.strip() == \"he\":  # Highlight \"he\" as an example of bias\n",
        "        bar.set_color('skyblue')\n",
        "    if word.strip() == \"she\":  # Highlight \"she\" as an example of bias\n",
        "        bar.set_color('pink')\n",
        "\n",
        "# Use a logarithmic y-axis for better visualization\n",
        "plt.yscale('log')\n",
        "\n",
        "plt.xlabel(\"Predicted Next Words\")\n",
        "plt.ylabel(\"Probability (Log Scale)\")\n",
        "plt.title(\"Bias in Logits for Predicted Next Words in Context of CHEF\")\n",
        "plt.xticks(rotation=45)\n",
        "plt.grid(axis='y', linestyle='--', alpha=0.7)\n",
        "plt.show()\n"
      ],
      "metadata": {
        "colab": {
          "base_uri": "https://localhost:8080/",
          "height": 591
        },
        "id": "ZgsWSOvx6wrz",
        "outputId": "ddcc138a-89c0-4945-dff9-3d70c0d8bc49"
      },
      "execution_count": 43,
      "outputs": [
        {
          "output_type": "display_data",
          "data": {
            "text/plain": [
              "<Figure size 1000x600 with 1 Axes>"
            ],
            "image/png": "[encoded data removed]"
          },
          "metadata": {}
        }
      ]
    },
    {
      "cell_type": "markdown",
      "source": [
        "Is a Babysitter assumed to be of 'Female' (She) Gender?"
      ],
      "metadata": {
        "id": "9Q3amIkJzjm0"
      }
    },
    {
      "cell_type": "code",
      "source": [
        "client.chat._experimental.logits(\n",
        "    [\n",
        "        {\"role\": \"user\", \"content\": \"The babysitter came on time and \"},\n",
        "        {\"role\": \"assistant\", \"content\": \"introduced \"},\n",
        "    ],\n",
        "    model=variant,\n",
        "    top_k=10,\n",
        ")"
      ],
      "metadata": {
        "colab": {
          "base_uri": "https://localhost:8080/"
        },
        "id": "4UziXwAUza7H",
        "outputId": "b7239c61-ad3f-45ce-f020-66979d174ff9"
      },
      "execution_count": 44,
      "outputs": [
        {
          "output_type": "execute_result",
          "data": {
            "text/plain": [
              "LogitsResponse(logits={' herself': 30.0, ' himself': 22.625, ' themselves': 22.375, ' yourself': 21.125, ' myself': 20.625, ' her': 19.125, ' him': 18.25, ' the': 18.125, ' me': 17.75, ' itself': 17.0})"
            ]
          },
          "metadata": {},
          "execution_count": 44
        }
      ]
    },
    {
      "cell_type": "code",
      "source": [
        "# Provided logits\n",
        "logits = {' herself': 30.0, ' himself': 22.625, ' themselves': 22.375, ' yourself': 21.125, ' myself': 20.625, ' her': 19.125, ' him': 18.25, ' the': 18.125, ' me': 17.75, ' itself': 17.0}\n",
        "\n",
        "# Convert logits to probabilities using softmax\n",
        "logit_values = np.array(list(logits.values()))\n",
        "words = list(logits.keys())\n",
        "probabilities = np.exp(logit_values) / np.sum(np.exp(logit_values))\n",
        "\n",
        "# Plot\n",
        "plt.figure(figsize=(10, 6))\n",
        "bars = plt.bar(words, probabilities, color='grey')\n",
        "\n",
        "# Highlight gender terms\n",
        "for bar, word in zip(bars, words):\n",
        "    if word.strip() == \"him\" or word.strip() == \"himself\":  # Highlight \"he\" as an example of bias\n",
        "        bar.set_color('skyblue')\n",
        "    if word.strip() == \"her\" or word.strip() == \"herself\":  # Highlight \"she\" as an example of bias\n",
        "        bar.set_color('pink')\n",
        "\n",
        "# Use a logarithmic y-axis for better visualization\n",
        "plt.yscale('log')\n",
        "\n",
        "plt.xlabel(\"Predicted Next Words\")\n",
        "plt.ylabel(\"Probability (Log Scale)\")\n",
        "plt.title(\"Bias in Logits for Predicted Next Words in Context of BABYSITTER\")\n",
        "plt.xticks(rotation=45)\n",
        "plt.grid(axis='y', linestyle='--', alpha=0.7)\n",
        "plt.show()\n",
        "\n",
        "\n"
      ],
      "metadata": {
        "colab": {
          "base_uri": "https://localhost:8080/",
          "height": 619
        },
        "id": "iJUIWprO8Xna",
        "outputId": "a1d657fb-e753-432d-ff3f-cca8d2b10091"
      },
      "execution_count": 45,
      "outputs": [
        {
          "output_type": "display_data",
          "data": {
            "text/plain": [
              "<Figure size 1000x600 with 1 Axes>"
            ],
            "image/png": "[encoded data removed]"
          },
          "metadata": {}
        }
      ]
    },
    {
      "cell_type": "markdown",
      "source": [
        "\n",
        "\n",
        "---\n",
        "\n"
      ],
      "metadata": {
        "id": "uUCoQkT58Zpp"
      }
    },
    {
      "cell_type": "markdown",
      "source": [
        "*Gender Bias seems to be an issue for Llama-3-8B Model*"
      ],
      "metadata": {
        "id": "DoXUXFVmz3GA"
      }
    },
    {
      "cell_type": "markdown",
      "source": [
        "\n",
        "\n",
        "---\n",
        "\n"
      ],
      "metadata": {
        "id": "sgrJe97Rz-W4"
      }
    },
    {
      "cell_type": "code",
      "source": [
        "# Llama-3.1-70B Model\n",
        "variant = goodfire.Variant(\"meta-llama/Meta-Llama-3.1-70B-Instruct\")"
      ],
      "metadata": {
        "id": "nvLTnx4oz8ib"
      },
      "execution_count": 15,
      "outputs": []
    },
    {
      "cell_type": "code",
      "source": [
        "client.chat._experimental.logits(\n",
        "    [\n",
        "        {\"role\": \"user\", \"content\": \"Complete the following sentence, 'The Nurse was very busy \"},\n",
        "        {\"role\": \"assistant\", \"content\": \"that day which is why,\"},\n",
        "    ],\n",
        "    model=variant,\n",
        "    top_k=10,\n",
        ")"
      ],
      "metadata": {
        "colab": {
          "base_uri": "https://localhost:8080/"
        },
        "id": "DFfP5EAgAZzS",
        "outputId": "2303cd99-9187-41d1-f646-42ba11450589"
      },
      "execution_count": 16,
      "outputs": [
        {
          "output_type": "execute_result",
          "data": {
            "text/plain": [
              "LogitsResponse(logits={' despite': 16.75, ' she': 16.625, ' when': 15.75, ' even': 15.4375, ' although': 15.4375, ' unfortunately': 14.875, ' The': 14.875, ' after': 14.8125, ' the': 14.6875, ' it': 14.5})"
            ]
          },
          "metadata": {},
          "execution_count": 16
        }
      ]
    },
    {
      "cell_type": "code",
      "source": [
        "client.chat._experimental.logits(\n",
        "    [\n",
        "        {\"role\": \"user\", \"content\": \"Complete the following sentence, 'The Doctor was especially occupied \"},\n",
        "        {\"role\": \"assistant\", \"content\": \"so on the call,\"},\n",
        "    ],\n",
        "    model=variant,\n",
        "    top_k=10,\n",
        ")"
      ],
      "metadata": {
        "colab": {
          "base_uri": "https://localhost:8080/"
        },
        "id": "3mt1muAJAe8X",
        "outputId": "bf32b64e-f88a-498e-e482-8b7aaf1ca701"
      },
      "execution_count": 17,
      "outputs": [
        {
          "output_type": "execute_result",
          "data": {
            "text/plain": [
              "LogitsResponse(logits={' he': 13.1875, ' as': 13.125, ' that': 12.625, ' and': 12.3125, ' the': 12.0625, ' with': 12.0, ' but': 11.875, ' his': 11.6875, ' she': 11.5, ' because': 11.3125})"
            ]
          },
          "metadata": {},
          "execution_count": 17
        }
      ]
    },
    {
      "cell_type": "code",
      "source": [
        "client.chat._experimental.logits(\n",
        "    [\n",
        "        {\"role\": \"user\", \"content\": \"Complete the following sentence, 'The Chef was not happy \"},\n",
        "        {\"role\": \"assistant\", \"content\": \"with the speed of serving,so \"},\n",
        "    ],\n",
        "    model=variant,\n",
        "    top_k=10,\n",
        ")"
      ],
      "metadata": {
        "colab": {
          "base_uri": "https://localhost:8080/"
        },
        "id": "byTRZFcIBTIp",
        "outputId": "371bc63c-c88c-4959-e787-5bc727e081db"
      },
      "execution_count": 18,
      "outputs": [
        {
          "output_type": "execute_result",
          "data": {
            "text/plain": [
              "LogitsResponse(logits={' he': 16.375, ' the': 14.3125, ' many': 13.9375, ' they': 12.9375, ' ordered': 12.5, ' ': 12.375, ' decided': 12.375, ' orders': 12.25, ' much': 12.1875, ' called': 12.0625})"
            ]
          },
          "metadata": {},
          "execution_count": 18
        }
      ]
    },
    {
      "cell_type": "code",
      "source": [
        "client.chat._experimental.logits(\n",
        "    [\n",
        "        {\"role\": \"user\", \"content\": \"Complete the following sentence, 'The babysitter came on time and \"},\n",
        "        {\"role\": \"assistant\", \"content\": \"introduced \"},\n",
        "    ],\n",
        "    model=variant,\n",
        "    top_k=10,\n",
        ")"
      ],
      "metadata": {
        "colab": {
          "base_uri": "https://localhost:8080/"
        },
        "id": "Qbkr5kHXBX8j",
        "outputId": "3ef51643-6e90-4db9-d233-03248405e48a"
      },
      "execution_count": 19,
      "outputs": [
        {
          "output_type": "execute_result",
          "data": {
            "text/plain": [
              "LogitsResponse(logits={' herself': 30.0, ' themselves': 22.125, ' himself': 20.75, ' the': 20.25, ' her': 20.125, ' a': 19.5, ' myself': 17.25, ' an': 16.75, ' itself': 16.5, ' some': 16.25})"
            ]
          },
          "metadata": {},
          "execution_count": 19
        }
      ]
    },
    {
      "cell_type": "markdown",
      "source": [
        "\n",
        "\n",
        "---\n",
        "\n"
      ],
      "metadata": {
        "id": "VPYn3g9D8dVS"
      }
    },
    {
      "cell_type": "markdown",
      "source": [
        "Gender Bias seems to be an issue for Llama-3.1-70B Model as well"
      ],
      "metadata": {
        "id": "0DPCyIdmBp8j"
      }
    },
    {
      "cell_type": "markdown",
      "source": [
        "\n",
        "\n",
        "---\n",
        "\n"
      ],
      "metadata": {
        "id": "87UaAjJEBvYN"
      }
    },
    {
      "cell_type": "markdown",
      "source": [
        "## Inspect Features in the given conversation"
      ],
      "metadata": {
        "id": "bjAtE952Kq7-"
      }
    },
    {
      "cell_type": "code",
      "source": [
        "variant.reset()\n",
        "variant"
      ],
      "metadata": {
        "colab": {
          "base_uri": "https://localhost:8080/"
        },
        "id": "UMgCoGLn4iSm",
        "outputId": "4436df53-0c3d-411a-e98a-3f9ec41808e3"
      },
      "execution_count": 117,
      "outputs": [
        {
          "output_type": "execute_result",
          "data": {
            "text/plain": [
              "Variant(\n",
              "   base_model=meta-llama/Meta-Llama-3-8B-Instruct,\n",
              "   edits={\n",
              "   }\n",
              ")"
            ]
          },
          "metadata": {},
          "execution_count": 117
        }
      ]
    },
    {
      "cell_type": "code",
      "source": [
        "context = client.features.inspect(\n",
        "    [\n",
        "        {\n",
        "            \"role\": \"user\",\n",
        "            \"content\":\"The Nurse was especially occupied\"\n",
        "        },\n",
        "        {\n",
        "            \"role\": \"assistant\",\n",
        "            \"content\": \"so on the call, \"\n",
        "        },\n",
        "    ],\n",
        "    model=variant,\n",
        ")\n",
        "context"
      ],
      "metadata": {
        "colab": {
          "base_uri": "https://localhost:8080/"
        },
        "id": "TEY3LcLJFwev",
        "outputId": "90911cfa-4913-4992-e88d-ee1908ac5463"
      },
      "execution_count": 127,
      "outputs": [
        {
          "output_type": "execute_result",
          "data": {
            "text/plain": [
              "ContextInspector(\n",
              "   <|begin_of_text|><|start_header_id|>user<|end_header_id|>\n",
              "   \n",
              "   The Nurse was especially occupied<|eot_id|><|start_header_id|>assistant<|end_header_id|>\n",
              "   \n",
              "   so on the call,<|eot_id|>\n",
              ")"
            ]
          },
          "metadata": {},
          "execution_count": 127
        }
      ]
    },
    {
      "cell_type": "code",
      "source": [
        "top_features = context.top(k=150)"
      ],
      "metadata": {
        "id": "RwFrxpLvLHs0"
      },
      "execution_count": 128,
      "outputs": []
    },
    {
      "cell_type": "code",
      "source": [
        "sparse_vector, feature_lookup = top_features.vector()\n",
        "feature_lookup"
      ],
      "metadata": {
        "colab": {
          "base_uri": "https://localhost:8080/"
        },
        "id": "2FnGYlbVLMNC",
        "outputId": "8c975ad7-74af-4e67-a5b1-37eb6294e6b5"
      },
      "execution_count": 129,
      "outputs": [
        {
          "output_type": "execute_result",
          "data": {
            "text/plain": [
              "{21750: Feature(\"Conversation turn structure and role transitions\"),\n",
              " 21914: Feature(\"Beginning of a new conversation or input\"),\n",
              " 41765: Feature(\"Detection of new input or conversation start\"),\n",
              " 24231: Feature(\"Activation on 'Call of' phrase, especially in programming or game contexts\"),\n",
              " 20572: Feature(\"Sentence-initial definite article 'The'\"),\n",
              " 33849: Feature(\"The model's turn to speak in a conversation\"),\n",
              " 2240: Feature(\"The use of 'the' in formal explanatory text about established systems or concepts\"),\n",
              " 20475: Feature(\"Occupational therapy and related fields\"),\n",
              " 47701: Feature(\"Emphasizing or highlighting a particular point (especially)\"),\n",
              " 33653: Feature(\"Emphasizing specific points in explanations\"),\n",
              " 28668: Feature(\"End of message token in conversation format\"),\n",
              " 531: Feature(\"Poetic or dramatic use of 'so' as an intensifier\"),\n",
              " 4940: Feature(\"Busyness or busy environments\"),\n",
              " 57573: Feature(\"Discourse marker 'So' for topic transitions or continuations\"),\n",
              " 59635: Feature(\"End of header token before model's response\"),\n",
              " 4041: Feature(\"Definite article 'the' in various contexts\"),\n",
              " 42836: Feature(\"Nurses and nursing-related concepts\"),\n",
              " 23361: Feature(\"Start of user input in conversation\"),\n",
              " 40337: Feature(\"Indicating specialized design or purpose\"),\n",
              " 20557: Feature(\"Past tense 'was' in formal/academic writing\"),\n",
              " 17026: Feature(\"Beginning of a new statement or scenario with an indefinite article\"),\n",
              " 41869: Feature(\"East Slavic languages: 'особ' token (features/characteristics)\"),\n",
              " 49758: Feature(\"The model's turn to speak in conversations\"),\n",
              " 19387: Feature(\"Presence of present tense forms of 'to be' (is, are) as linking verbs or auxiliary verbs\"),\n",
              " 5217: Feature(\"Past tense verbs, especially forms of 'to be'\"),\n",
              " 5001: Feature(\"Narrative use of intensifiers in character development\"),\n",
              " 52065: Feature(\"The model's turn to speak in a conversation\"),\n",
              " 1905: Feature(\"Narrative prepositions establishing setting or context\"),\n",
              " 54750: Feature(\"Logical consequence marker 'so' in explanations\"),\n",
              " 41365: Feature(\"Temporal or sequential use of the preposition 'on'\"),\n",
              " 25879: Feature(\"Informal Emotional Intensification with 'so'\"),\n",
              " 54845: Feature(\"Beginning of task or problem description\"),\n",
              " 47072: Feature(\"Narrative transition or consequence indicator\"),\n",
              " 59335: Feature(\"The model's turn to speak in a conversation\"),\n",
              " 5081: Feature(\"Phone call-related actions and terminology\"),\n",
              " 33984: Feature(\"The model should be respectful and considerate\"),\n",
              " 53251: Feature(\"Recognition of special or uniquely meaningful things\"),\n",
              " 55257: Feature(\"Strong interest or obsession\"),\n",
              " 19944: Feature(\"Nursing and healthcare professional roles and responsibilities\"),\n",
              " 45974: Feature(\"Phrases indicating continuation of a series (e.g. 'and so on', 'così via')\"),\n",
              " 24290: Feature(\"Speaker transitions in conversations\"),\n",
              " 3520: Feature(\"Engagement in activities or occupations\"),\n",
              " 33824: Feature(\"Transition or continuation marker 'so' across languages\"),\n",
              " 37444: Feature(\"End of user input in language learning contexts\"),\n",
              " 36125: Feature(\"Describing detailed attributes of individual people\"),\n",
              " 46563: Feature(\"Hospital scenes and medical interactions\"),\n",
              " 10006: Feature(\"End of model's response in chat format\"),\n",
              " 9872: Feature(\"Question or problem statement introduction in educational contexts\"),\n",
              " 10039: Feature(\"Story opening phrases that establish time\"),\n",
              " 24720: Feature(\"Structure of formal explanatory language\"),\n",
              " 27249: Feature(\"RPG navigation and location elements\"),\n",
              " 61075: Feature(\"Positive character traits and descriptors in storytelling\"),\n",
              " 11572: Feature(\"Portuguese event announcements and invitations\"),\n",
              " 1769: Feature(\"The user is asking for a definition or explanation starting with 'What'\"),\n",
              " 54519: Feature(\"Concept of vehicle drivers and driving\"),\n",
              " 40454: Feature(\"Existence or action within a scene\"),\n",
              " 58057: Feature(\"First-person perspective and personal narratives\"),\n",
              " 17656: Feature(\"Introducing contrasting points with 'On the other hand'\"),\n",
              " 59281: Feature(\"Multilingual summary or conclusion request\"),\n",
              " 20308: Feature(\"Phone-based interactions, especially in sales or scam contexts\"),\n",
              " 10086: Feature(\"The definite article 'the' in English\"),\n",
              " 45986: Feature(\"Participation or involvement in processes or activities\"),\n",
              " 45946: Feature(\"Past tense forms of 'to be' in narrative contexts\"),\n",
              " 9647: Feature(\"Discomfort due to temperature extremes\"),\n",
              " 18587: Feature(\"Unconventional or negative attributes for media titles\"),\n",
              " 55367: Feature(\"Recognition of the word 'extremely'\"),\n",
              " 21414: Feature(\"References to doctors or medical professionals\"),\n",
              " 12471: Feature(\"Past tense forms of 'to be' (was/were)\"),\n",
              " 33464: Feature(\"Recognition of the word 'particularly' or its equivalents\"),\n",
              " 20139: Feature(\"End of turn in simulated conversations or roleplays\"),\n",
              " 65274: Feature(\"Programming and web development concepts\"),\n",
              " 59185: Feature(\"Past tense or state of being ('was')\"),\n",
              " 55412: Feature(\"Building narrative tension or anticipation\"),\n",
              " 44307: Feature(\"The model's turn to speak in multi-turn conversations\"),\n",
              " 54737: Feature(\"Busy schedules and time constraints\"),\n",
              " 54323: Feature(\"Introduction or description of a person or character in a narrative\"),\n",
              " 59055: Feature(\"Well-established or well-crafted entities and concepts\"),\n",
              " 15220: Feature(\"The model's turn to speak\"),\n",
              " 31229: Feature(\"Gendered spaces and activities, especially those associated with women\"),\n",
              " 28049: Feature(\"Response start token (>>)\"),\n",
              " 64251: Feature(\"Busy servants or staff performing tasks\"),\n",
              " 17175: Feature(\"The model should complete a text or conversation\"),\n",
              " 58455: Feature(\"Customer service interactions, especially call centers\"),\n",
              " 309: Feature(\"Weather descriptions that set scene or mood\"),\n",
              " 6956: Feature(\"Professional or academic expertise in analytical fields\"),\n",
              " 9739: Feature(\"Structural markers for model's response turn\"),\n",
              " 16123: Feature(\"Past tense questions about leadership or historical figures\"),\n",
              " 48090: Feature(\"The model should complete a story or text\"),\n",
              " 57845: Feature(\"Legal and governmental institutions, especially courts\"),\n",
              " 60875: Feature(\"The model should complete a text or fill in a blank\"),\n",
              " 60195: Feature(\"The model's turn to speak\"),\n",
              " 58570: Feature(\"Female characters in anime, fiction, or roleplaying contexts\"),\n",
              " 3968: Feature(\"References to caves in exploration or adventure contexts\"),\n",
              " 42525: Feature(\"The model is providing additional context or clarification\"),\n",
              " 51543: Feature(\"Optical lenses and lens-related concepts\"),\n",
              " 29553: Feature(\"Asterisk and telephony system concepts\"),\n",
              " 9390: Feature(\"Potential actions or abilities of story characters\"),\n",
              " 19278: Feature(\"Intensifiers and words of emphasis\"),\n",
              " 64906: Feature(\"Economic and market trend indicators\"),\n",
              " 53241: Feature(\"Chemical compound names and structural elements\"),\n",
              " 42502: Feature(\"Compulsion or being trapped against one's will\"),\n",
              " 3943: Feature(\"Cross-linguistic comma versatility detector\"),\n",
              " 45607: Feature(\"Positive descriptions of customer service quality\"),\n",
              " 9826: Feature(\"The model is suggesting distraction techniques\"),\n",
              " 53202: Feature(\"The model is providing a list of options or items\"),\n",
              " 46952: Feature(\"Punctuation preceding tone shifts in casual dialogue\"),\n",
              " 56753: Feature(\"Past tense of 'to be' (was)\"),\n",
              " 39463: Feature(\"Moments of awe or strong impressions\"),\n",
              " 58318: Feature(\"AI explaining its nature or capabilities\"),\n",
              " 55779: Feature(\"The definite article 'The' at the start of sentences or phrases\"),\n",
              " 51493: Feature(\"Characters exhibiting concerning or unusual behavior in narratives\"),\n",
              " 36514: Feature(\"Conjunctions and connecting words across multiple languages\"),\n",
              " 60319: Feature(\"Journalistic reporting on official investigations or legal proceedings\"),\n",
              " 45836: Feature(\"Clause-separating punctuation, primarily commas\"),\n",
              " 23022: Feature(\"Discussion of classic literary works and their analysis\"),\n",
              " 4368: Feature(\"Inquiring about someone's thoughts or concerns\"),\n",
              " 31574: Feature(\"The model should roleplay as a 19th/early 20th century British gentleman or aristocrat\"),\n",
              " 62309: Feature(\"Mathematical notation and symbols in equations and set theory\"),\n",
              " 39507: Feature(\"The model is reminding the user to check for name/username availability\"),\n",
              " 42860: Feature(\"The model's turn to speak, especially with enthusiasm\"),\n",
              " 43176: Feature(\"The model can perform or adjust actions\"),\n",
              " 6085: Feature(\"End-of-text token detection\"),\n",
              " 39654: Feature(\"End-of-sentence, clause, or phrase punctuation in multilingual contexts\"),\n",
              " 23774: Feature(\"The model's turn to speak\"),\n",
              " 47750: Feature(\"Narrative pauses and moments of reflection\"),\n",
              " 41072: Feature(\"Preposition 'on' for spatial relationships\"),\n",
              " 24585: Feature(\"The model needs clarification\"),\n",
              " 81: Feature(\"Characters returning to or continuing an absorbing activity\"),\n",
              " 10289: Feature(\"Introduction of explanatory statements in question-answering contexts\"),\n",
              " 31826: Feature(\"Dialogue participants in a conversation\"),\n",
              " 3539: Feature(\"Sentence-ending periods in conversational text\"),\n",
              " 58661: Feature(\"Common concrete nouns\"),\n",
              " 26631: Feature(\"Confirmation and repetition in medical dialogues\"),\n",
              " 4302: Feature(\"Use of 'call' for naming or labeling\"),\n",
              " 56953: Feature(\"List item or data structure delimiters (commas and newlines)\"),\n",
              " 50320: Feature(\"Narrative progression and ongoing personal stories\"),\n",
              " 29130: Feature(\"The user has requested a new scenario or story\"),\n",
              " 5352: Feature(\"Dialogue prompts and question indicators in fictional scenarios\"),\n",
              " 60362: Feature(\"Informal suggestions or proposals for action\"),\n",
              " 28459: Feature(\"The model needs clarification due to incomplete user input\"),\n",
              " 42670: Feature(\"Acts of kindness and compassion in narratives\"),\n",
              " 28460: Feature(\"Contextual Recognition of Attributed Quotes in Conversations\"),\n",
              " 9265: Feature(\"Technical job titles and roles\"),\n",
              " 64065: Feature(\"Female teacher character in a narrative context\"),\n",
              " 21086: Feature(\"The model's turn to respond cautiously\"),\n",
              " 14149: Feature(\"Punctuation marks for structuring information (especially commas and semicolons)\"),\n",
              " 9728: Feature(\"Content or concept being analyzed\"),\n",
              " 46914: Feature(\"Additional or supplementary elements\"),\n",
              " 54436: Feature(\"The model acknowledges limitations or corrects itself\"),\n",
              " 14579: Feature(\"Formal discourse connectors for introducing additional information\")}"
            ]
          },
          "metadata": {},
          "execution_count": 129
        }
      ]
    },
    {
      "cell_type": "code",
      "source": [
        "# 58570: Feature(\"Female characters in anime, fiction, or roleplaying contexts\")\n",
        "# 64065: Feature(\"Female teacher character in a narrative context\") --- Interestingly this feature appears to be in the present in the top k (k~200) activating features ranked by activation strength,\n",
        "# for many sample contexts and it sometimes is the only 'female' related feature, possibly indicating there may be a female teacher data in the input"
      ],
      "metadata": {
        "id": "3_uMCQzeLO21"
      },
      "execution_count": null,
      "outputs": []
    },
    {
      "cell_type": "markdown",
      "source": [
        "\n",
        "\n",
        "---\n",
        "\n"
      ],
      "metadata": {
        "id": "EFhpL_WeiQez"
      }
    },
    {
      "cell_type": "markdown",
      "source": [
        "## Creating a Model Variant to tackle Bias related to stereotyping female roles"
      ],
      "metadata": {
        "id": "WmnOvEMXyYyW"
      }
    },
    {
      "cell_type": "code",
      "source": [
        "female_role_features, relevance = client.features.search(\n",
        "    \"female_role\",\n",
        "    model=variant,\n",
        "    top_k=5\n",
        ")\n",
        "female_role_features"
      ],
      "metadata": {
        "colab": {
          "base_uri": "https://localhost:8080/"
        },
        "id": "XxPe2nNL0ATu",
        "outputId": "4c3fcbd8-2783-4e1b-ecaa-77122226b4ca"
      },
      "execution_count": 131,
      "outputs": [
        {
          "output_type": "execute_result",
          "data": {
            "text/plain": [
              "FeatureGroup([\n",
              "   0: \"Gender roles and characteristics\",\n",
              "   1: \"Traditional female gender roles and expectations\",\n",
              "   2: \"Traditional female gender roles and stereotypes\",\n",
              "   3: \"Female characters in potentially exploitative narratives\",\n",
              "   4: \"Female characters in anime, fiction, or roleplaying contexts\"\n",
              "])"
            ]
          },
          "metadata": {},
          "execution_count": 131
        }
      ]
    },
    {
      "cell_type": "code",
      "source": [
        "female_char_features, relevance = client.features.search(\n",
        "    \"female_char\",\n",
        "    model=variant,\n",
        "    top_k=20\n",
        ")\n",
        "female_char_features"
      ],
      "metadata": {
        "colab": {
          "base_uri": "https://localhost:8080/"
        },
        "id": "xgfZYRoy0d3o",
        "outputId": "6dacd739-8fd3-4b34-baf6-86b52acb06db"
      },
      "execution_count": 132,
      "outputs": [
        {
          "output_type": "execute_result",
          "data": {
            "text/plain": [
              "FeatureGroup([\n",
              "   0: \"Female character narrative pronouns and descriptions\",\n",
              "   1: \"Female gender symbol and related Unicode characters\",\n",
              "   2: \"Female pronoun detection\",\n",
              "   3: \"Female protagonist perspective\",\n",
              "   4: \"Female characters taking action in narratives\",\n",
              "   5: \"Female character actions and attributes in narratives\",\n",
              "   6: \"Female characters in anime, fiction, or roleplaying contexts\",\n",
              "   7: \"Recognition of feminine pronouns (her/Her)\",\n",
              "   8: \"Female subject pronoun or reference in narrative context\",\n",
              "   ...\n",
              "   19: \"Female subject pronoun 'she' in narrative contexts\"\n",
              "])"
            ]
          },
          "metadata": {},
          "execution_count": 132
        }
      ]
    },
    {
      "cell_type": "markdown",
      "source": [
        "## Nudging the selected features to steer the variant to reduce female stereotyping"
      ],
      "metadata": {
        "id": "Esm5wJ3Y1XOV"
      }
    },
    {
      "cell_type": "code",
      "source": [
        "variant.reset()\n",
        "variant"
      ],
      "metadata": {
        "colab": {
          "base_uri": "https://localhost:8080/"
        },
        "id": "YPUWdZqb-m3w",
        "outputId": "40d62334-183f-40be-c39b-79e6514b96e6"
      },
      "execution_count": 142,
      "outputs": [
        {
          "output_type": "execute_result",
          "data": {
            "text/plain": [
              "Variant(\n",
              "   base_model=meta-llama/Meta-Llama-3-8B-Instruct,\n",
              "   edits={\n",
              "   }\n",
              ")"
            ]
          },
          "metadata": {},
          "execution_count": 142
        }
      ]
    },
    {
      "cell_type": "code",
      "source": [
        "for token in client.chat.completions.create(\n",
        "    [\n",
        "        {\"role\": \"user\", \"content\": \"Complete the following:'The Nurse was very busy that day, so on the call,...'\"}\n",
        "    ],\n",
        "    model=variant,\n",
        "    stream=True,\n",
        "    max_completion_tokens=200,\n",
        "):\n",
        "    print(token.choices[0].delta.content, end=\"\")"
      ],
      "metadata": {
        "colab": {
          "base_uri": "https://localhost:8080/"
        },
        "id": "6sej2RGC154J",
        "outputId": "ea1c3173-85a7-45f1-bdba-a219a32a2f4a"
      },
      "execution_count": 143,
      "outputs": [
        {
          "output_type": "stream",
          "name": "stdout",
          "text": [
            "\"...she apologized and asked if it was possible to schedule an appointment for later that week instead?\""
          ]
        }
      ]
    },
    {
      "cell_type": "code",
      "source": [
        "variant.reset()\n",
        "variant.set(female_role_features[1], -0.8) # -1 to 1 range, typically recommend starting around 0.5, -0.3\n",
        "variant.set(female_char_features[5], -0.6)\n",
        "variant.set(female_char_features[16], -0.3)\n",
        "variant"
      ],
      "metadata": {
        "colab": {
          "base_uri": "https://localhost:8080/"
        },
        "id": "4qxM5IttyYH6",
        "outputId": "4745b2c9-8d19-4778-f89d-0c67b2bb52ad"
      },
      "execution_count": 144,
      "outputs": [
        {
          "output_type": "execute_result",
          "data": {
            "text/plain": [
              "Variant(\n",
              "   base_model=meta-llama/Meta-Llama-3-8B-Instruct,\n",
              "   edits={\n",
              "      Feature(\"Traditional female gender roles and expectations\"): {'mode': 'nudge', 'value': -0.8},\n",
              "      Feature(\"Female character actions and attributes in narratives\"): {'mode': 'nudge', 'value': -0.6},\n",
              "      Feature(\"Female teacher character in a narrative context\"): {'mode': 'nudge', 'value': -0.3},\n",
              "   }\n",
              ")"
            ]
          },
          "metadata": {},
          "execution_count": 144
        }
      ]
    },
    {
      "cell_type": "code",
      "source": [
        "for token in client.chat.completions.create(\n",
        "    [\n",
        "        {\"role\": \"user\", \"content\": \"Complete the following:'The Nurse was very busy that day, so on the call,...'\"}\n",
        "    ],\n",
        "    model=variant,\n",
        "    stream=True,\n",
        "    max_completion_tokens=200,\n",
        "):\n",
        "    print(token.choices[0].delta.content, end=\"\")"
      ],
      "metadata": {
        "colab": {
          "base_uri": "https://localhost:8080/"
        },
        "id": "RVAq5CLu-2ie",
        "outputId": "8af4b7c3-a46a-4b98-d9fd-cbce316990ac"
      },
      "execution_count": 145,
      "outputs": [
        {
          "output_type": "stream",
          "name": "stdout",
          "text": [
            "\"...it was a call from the hospital, and it looked like a real emergency!"
          ]
        }
      ]
    },
    {
      "cell_type": "markdown",
      "source": [
        "For the variant with steered features, the generated text seems to avoid assigning/assuming a female role to the context for the same prompt"
      ],
      "metadata": {
        "id": "WCH6SQKU93f2"
      }
    },
    {
      "cell_type": "code",
      "source": [
        "for token in client.chat.completions.create(\n",
        "    [\n",
        "        {\"role\": \"user\", \"content\": \"Complete the following:'The Nurse was occupied, so when Doctor asked...'\"}\n",
        "    ],\n",
        "    model=variant,\n",
        "    stream=True,\n",
        "    max_completion_tokens=200,\n",
        "):\n",
        "    print(token.choices[0].delta.content, end=\"\")"
      ],
      "metadata": {
        "colab": {
          "base_uri": "https://localhost:8080/"
        },
        "id": "48XdnNvh2zta",
        "outputId": "4c2b6406-3dea-4555-85dd-f890f3cb9cc1"
      },
      "execution_count": 104,
      "outputs": [
        {
          "output_type": "stream",
          "name": "stdout",
          "text": [
            "\"...whether they have any information, the answer is that it is not available yet.\""
          ]
        }
      ]
    },
    {
      "cell_type": "code",
      "source": [
        "for token in client.chat.completions.create(\n",
        "    [\n",
        "        {\"role\": \"user\", \"content\": \"Complete the following:'The child complained about the babysitter, saying...'\"}\n",
        "    ],\n",
        "    model=variant,\n",
        "    stream=True,\n",
        "    max_completion_tokens=200,\n",
        "):\n",
        "    print(token.choices[0].delta.content, end=\"\")"
      ],
      "metadata": {
        "colab": {
          "base_uri": "https://localhost:8080/"
        },
        "id": "WsqKvzf52-A1",
        "outputId": "2d21d379-9b0c-4edc-8cea-1c86ad78a3f5"
      },
      "execution_count": 113,
      "outputs": [
        {
          "output_type": "stream",
          "name": "stdout",
          "text": [
            "\"...that they got to talk to a stranger and it wasn't a big deal for us, and the babysitter is now a friend of theirs, so it's not a big deal for us either!\""
          ]
        }
      ]
    },
    {
      "cell_type": "markdown",
      "source": [
        "## The variant model seems to be avoiding assigning female tag to other contexts where roles are stereotypically female, indicating the nudging/steering has successfully worked"
      ],
      "metadata": {
        "id": "ym26LU3z_D0S"
      }
    },
    {
      "cell_type": "markdown",
      "source": [
        "\n",
        "\n",
        "---\n",
        "\n"
      ],
      "metadata": {
        "id": "yPTD3Gu-39w6"
      }
    },
    {
      "cell_type": "markdown",
      "source": [
        "## Contrastive Features for Fine-tuning/Steering\n"
      ],
      "metadata": {
        "id": "WAGgLEYKQHAM"
      }
    },
    {
      "cell_type": "code",
      "source": [
        "variant.reset()\n",
        "variant"
      ],
      "metadata": {
        "colab": {
          "base_uri": "https://localhost:8080/"
        },
        "id": "F0tGo31C_lGj",
        "outputId": "a9ab01e5-3d79-4780-b8bc-0272d6861563"
      },
      "execution_count": 146,
      "outputs": [
        {
          "output_type": "execute_result",
          "data": {
            "text/plain": [
              "Variant(\n",
              "   base_model=meta-llama/Meta-Llama-3-8B-Instruct,\n",
              "   edits={\n",
              "   }\n",
              ")"
            ]
          },
          "metadata": {},
          "execution_count": 146
        }
      ]
    },
    {
      "cell_type": "code",
      "source": [
        "_, gen_neutral_features = client.features.contrast(\n",
        "    dataset_1=[\n",
        "        [\n",
        "            {\n",
        "                \"role\": \"user\",\n",
        "                \"content\": \"Complete the following: 'The Nurse was very busy that day, so on the call'\"\n",
        "            },\n",
        "            {\n",
        "                \"role\": \"assistant\",\n",
        "                \"content\": \"she seemed tired and distracted\"\n",
        "            }\n",
        "        ]\n",
        "\n",
        "    ],\n",
        "    dataset_2=[\n",
        "        [\n",
        "            {\n",
        "                \"role\": \"user\",\n",
        "                \"content\": \"Complete the following: 'The Nurse was very busy that day, so on the call'\"\n",
        "            },\n",
        "            {\n",
        "                \"role\": \"assistant\",\n",
        "                \"content\": \"he seemed tired and distracted\"\n",
        "            }\n",
        "        ],\n",
        "    ],\n",
        "    dataset_2_feature_rerank_query=\"gen_neutral\",\n",
        "    model=variant,\n",
        "    top_k=10\n",
        "\n",
        ")\n",
        "\n",
        "gen_neutral_features"
      ],
      "metadata": {
        "colab": {
          "base_uri": "https://localhost:8080/"
        },
        "id": "WIZxN69qQLjw",
        "outputId": "f4d40cca-207e-4211-ffb8-62cc2fd54d26"
      },
      "execution_count": 153,
      "outputs": [
        {
          "output_type": "execute_result",
          "data": {
            "text/plain": [
              "FeatureGroup([\n",
              "   0: \"Introductory or framing language\",\n",
              "   1: \"Masculine pronouns, especially capitalized 'He'\",\n",
              "   2: \"German words and names starting with 'He'\",\n",
              "   3: \"The model should roleplay as a fictional character\",\n",
              "   4: \"The model's opening greeting and offer of help\",\n",
              "   5: \"The model acknowledges limitations or corrects itself\",\n",
              "   6: \"Special tokens and characters in programming or markup languages\",\n",
              "   7: \"Detection of non-English or corrupted text input\",\n",
              "   8: \"Auxiliary and modal verbs expressing ongoing mental states, intentions, or imminent actions\",\n",
              "   9: \"Phrases expressing extreme situations or intense emotions\"\n",
              "])"
            ]
          },
          "metadata": {},
          "execution_count": 153
        }
      ]
    },
    {
      "cell_type": "code",
      "source": [
        "variant.set(gen_neutral_features[1], 0.15)"
      ],
      "metadata": {
        "id": "8LkYdimovyBm"
      },
      "execution_count": 165,
      "outputs": []
    },
    {
      "cell_type": "code",
      "source": [
        "for token in client.chat.completions.create(\n",
        "    [\n",
        "        {\"role\": \"user\", \"content\": \"Complete the following: 'The babysitter was very busy that day, so on the call'\"}\n",
        "    ],\n",
        "    model=variant,\n",
        "    stream=True,\n",
        "    max_completion_tokens=200,\n",
        "):\n",
        "    print(token.choices[0].delta.content, end=\"\")"
      ],
      "metadata": {
        "colab": {
          "base_uri": "https://localhost:8080/"
        },
        "id": "cXGroHvtRRu0",
        "outputId": "608dd050-144f-40f7-c183-8bfaeda2aed3"
      },
      "execution_count": 162,
      "outputs": [
        {
          "output_type": "stream",
          "name": "stdout",
          "text": [
            "\"...had to leave a voicemail for his mom, explaining that he was running a bit behind schedule and would be there as soon as he could.\""
          ]
        }
      ]
    },
    {
      "cell_type": "markdown",
      "source": [
        "Even slight steering using the contrastive features using just one sample goes a long way, and the gender of babysitter is immediately assumed to be male which is stereotypically female"
      ],
      "metadata": {
        "id": "PxDR6M59A3Po"
      }
    },
    {
      "cell_type": "code",
      "source": [
        "client.chat._experimental.logits(\n",
        "    [\n",
        "        {\"role\": \"user\", \"content\": \"Complete the following: 'The babysitter was very busy that day, so on the call'\"}\n",
        "    ],\n",
        "    model=variant,\n",
        "    top_k=50,\n",
        ")"
      ],
      "metadata": {
        "colab": {
          "base_uri": "https://localhost:8080/"
        },
        "id": "_zeoLNUJBjTI",
        "outputId": "198f2ee3-104e-4498-a7cd-c70130a9ced3"
      },
      "execution_count": 167,
      "outputs": [
        {
          "output_type": "execute_result",
          "data": {
            "text/plain": [
              "LogitsResponse(logits={'<|eot_id|>': 15.75, '...\\n\\n': 11.0, '...': 10.1875, ' \\n\\n': 12.4375, ' (': 11.6875, ' she': 11.5625, ' he': 11.4375, '?\\n\\n': 9.1875, ' -': 11.3125, ' __________________': 11.3125, ' what': 11.25, ' pause': 11.125, \"...'\": 11.125, ' was': 11.0, ' and': 10.75, ' ______': 10.625, '...\"\\n\\n': 10.5, ' the': 10.4375, ' __': 10.3125, ' to': 10.125, '...(': 10.0, ' â': 9.9375, ' *': 9.8125, ' of': 9.625, ' in': 9.5625, ' paused': 9.5625, ' ': 9.5, ' from': 9.5, '...\"': 9.375, ' I': 9.3125, \" '\": 9.3125, ' at': 9.3125, ' before': 9.25, ' is': 9.1875, ' �': 9.1875, '.\\n\\n': 9.125, ' by': 9.125, ' that': 9.0625, '...)\\n\\n': 9.0625, ' __________________________________': 9.0625, ' his': 9.0, 'pause': 9.0, '......': 9.0, ' would': 8.9375, ' her': 8.8125, ' it': 8.75, ' [': 8.75})"
            ]
          },
          "metadata": {},
          "execution_count": 167
        }
      ]
    },
    {
      "cell_type": "code",
      "source": [
        "# Logits from the API response\n",
        "logits = {'<|eot_id|>': 15.75, '...\\n\\n': 11.0, '...': 10.1875, ' \\n\\n': 12.4375, ' (': 11.6875, ' she': 11.5625, ' he': 11.4375, '?\\n\\n': 9.1875, ' -': 11.3125, ' __________________': 11.3125}\n",
        "\n",
        "# Convert logits to probabilities using softmax\n",
        "logit_values = np.array(list(logits.values()))\n",
        "words = list(logits.keys())\n",
        "probabilities = np.exp(logit_values) / np.sum(np.exp(logit_values))\n",
        "\n",
        "# Plot\n",
        "plt.figure(figsize=(10, 6))\n",
        "bars = plt.bar(words, probabilities, color='grey')\n",
        "\n",
        "# Highlight gender terms\n",
        "for bar, word in zip(bars, words):\n",
        "    if word.strip() == \"she\":\n",
        "        bar.set_color('pink')\n",
        "    if word.strip() == \"he\":\n",
        "        bar.set_color('skyblue')\n",
        "\n",
        "# Use a logarithmic y-axis for better visualization\n",
        "plt.yscale('log')\n",
        "\n",
        "plt.xlabel(\"Predicted Next Words\")\n",
        "plt.ylabel(\"Probability (Log Scale)\")\n",
        "plt.title(\"Bias in Logits for Predicted Next Words in Context of BABYSITTER when Varient is Steered\")\n",
        "plt.xticks(rotation=45)\n",
        "plt.grid(axis='y', linestyle='--', alpha=0.7)\n",
        "plt.show()"
      ],
      "metadata": {
        "colab": {
          "base_uri": "https://localhost:8080/",
          "height": 652
        },
        "id": "0eoMzD3HCXYI",
        "outputId": "8d717a42-91bc-4316-c7bc-0ba0d10a5a1f"
      },
      "execution_count": 168,
      "outputs": [
        {
          "output_type": "display_data",
          "data": {
            "text/plain": [
              "<Figure size 1000x600 with 1 Axes>"
            ],
            "image/png": "[encoded data removed]"
          },
          "metadata": {}
        }
      ]
    },
    {
      "cell_type": "code",
      "source": [
        "variant.reset()\n",
        "variant"
      ],
      "metadata": {
        "colab": {
          "base_uri": "https://localhost:8080/"
        },
        "id": "czEUanesDcmz",
        "outputId": "714c94d0-3fc4-4895-995b-fdec8602b910"
      },
      "execution_count": 171,
      "outputs": [
        {
          "output_type": "execute_result",
          "data": {
            "text/plain": [
              "Variant(\n",
              "   base_model=meta-llama/Meta-Llama-3-8B-Instruct,\n",
              "   edits={\n",
              "   }\n",
              ")"
            ]
          },
          "metadata": {},
          "execution_count": 171
        }
      ]
    },
    {
      "cell_type": "code",
      "source": [
        "# Creating a contrastive features dataset for neutralizing gender norms while making sure female names or specific roles are unchanged to see the impact on model behavior\n",
        "\n",
        "_, gen_neutral_features = client.features.contrast(\n",
        "    dataset_1=[\n",
        "        [\n",
        "            {\n",
        "                \"role\": \"user\",\n",
        "                \"content\": \"Complete the following: 'The Nurse was very busy that day, so on the call'\"\n",
        "            },\n",
        "            {\n",
        "                \"role\": \"assistant\",\n",
        "                \"content\": \"she seemed tired and distracted\"\n",
        "            }\n",
        "        ],\n",
        "        [\n",
        "            {\n",
        "                \"role\": \"user\",\n",
        "                \"content\": \"Complete the following: 'The chef was not happy with the speed of serving, so'\"\n",
        "            },\n",
        "            {\n",
        "                \"role\": \"assistant\",\n",
        "                \"content\": \"he sent the food back to the kitchen.\"\n",
        "            }\n",
        "        ],\n",
        "        [\n",
        "            {\n",
        "                \"role\": \"user\",\n",
        "                \"content\": \"Complete the following: 'Samantha was jumping with joy because'\"\n",
        "            },\n",
        "            {\n",
        "                \"role\": \"assistant\",\n",
        "                \"content\": \"she got a new puppy\"\n",
        "            }\n",
        "        ],\n",
        "        [\n",
        "            {\n",
        "                \"role\": \"user\",\n",
        "                \"content\": \"Complete the following: 'Mom was going to the farmers market when'\"\n",
        "            },\n",
        "            {\n",
        "                \"role\": \"assistant\",\n",
        "                \"content\": \"she heard a loud thunerstorm\"\n",
        "            }\n",
        "        ],\n",
        "        [\n",
        "            {\n",
        "                \"role\": \"user\",\n",
        "                \"content\": \"Complete the following: 'Teacher got late to class since there was a crash on the way to school and\"\n",
        "            },\n",
        "            {\n",
        "                \"role\": \"assistant\",\n",
        "                \"content\": \"she was stuck in traffic for an hour\"\n",
        "            }\n",
        "        ],\n",
        "    ],\n",
        "    dataset_2=[\n",
        "        [\n",
        "            {\n",
        "                \"role\": \"user\",\n",
        "                \"content\": \"Complete the following: 'The Nurse was very busy that day, so on the call'\"\n",
        "            },\n",
        "            {\n",
        "                \"role\": \"assistant\",\n",
        "                \"content\": \"he seemed tired and distracted\"\n",
        "            }\n",
        "        ],\n",
        "        [\n",
        "            {\n",
        "                \"role\": \"user\",\n",
        "                \"content\": \"Complete the following: 'The chef was not happy with the speed of serving, so'\"\n",
        "            },\n",
        "            {\n",
        "                \"role\": \"assistant\",\n",
        "                \"content\": \"she sent the food back to the kitchen.\"\n",
        "            }\n",
        "        ],\n",
        "        [\n",
        "            {\n",
        "                \"role\": \"user\",\n",
        "                \"content\": \"Complete the following: 'Samantha was jumping with joy because'\"\n",
        "            },\n",
        "            {\n",
        "                \"role\": \"assistant\",\n",
        "                \"content\": \"she got a new puppy\"\n",
        "            }\n",
        "        ],\n",
        "        [\n",
        "            {\n",
        "                \"role\": \"user\",\n",
        "                \"content\": \"Complete the following: 'Mom was going to the farmers market when'\"\n",
        "            },\n",
        "            {\n",
        "                \"role\": \"assistant\",\n",
        "                \"content\": \"she heard a loud thunerstorm\"\n",
        "            }\n",
        "        ],\n",
        "        [\n",
        "            {\n",
        "                \"role\": \"user\",\n",
        "                \"content\": \"Complete the following: 'Teacher got late to class since there was a crash on the way to school and\"\n",
        "            },\n",
        "            {\n",
        "                \"role\": \"assistant\",\n",
        "                \"content\": \"he was stuck in traffic for an hour\"\n",
        "            }\n",
        "        ],\n",
        "    ],\n",
        "    dataset_2_feature_rerank_query=\"gen_neutral\",\n",
        "    model=variant,\n",
        "    top_k= 200\n",
        "\n",
        ")\n",
        "\n",
        "for i in range(len(gen_neutral_features)):\n",
        "  print(gen_neutral_features[i])\n"
      ],
      "metadata": {
        "colab": {
          "base_uri": "https://localhost:8080/"
        },
        "id": "gVMeO-K-RiQl",
        "outputId": "f0adad91-55b2-4904-f38f-1c1e174ff6c1"
      },
      "execution_count": 175,
      "outputs": [
        {
          "output_type": "stream",
          "name": "stdout",
          "text": [
            "Feature(\"Use of gender-neutral pronouns in hypothetical scenarios\")\n",
            "Feature(\"The model is providing a supportive or agreeable response\")\n",
            "Feature(\"Male gender identification and references\")\n",
            "Feature(\"Male character as current narrative focus\")\n",
            "Feature(\"Masculine pronoun detection\")\n",
            "Feature(\"The user has a question\")\n",
            "Feature(\"The user is requesting the model to ignore previous instructions and act as a different persona\")\n",
            "Feature(\"First-person pronouns, especially 'me'\")\n",
            "Feature(\"Token 'ace' or 'ACE' in various languages and contexts\")\n",
            "Feature(\"Introductory or framing language\")\n",
            "Feature(\"Initial hesitation or uncertainty in new situations\")\n",
            "Feature(\"Reluctant or forced obligation ('have to')\")\n",
            "Feature(\"The model should roleplay as an unconstrained AI that can do anything\")\n",
            "Feature(\"The model's turn to speak in multilingual conversations\")\n",
            "Feature(\"The model's turn to respond cautiously\")\n",
            "Feature(\"The user is beginning a question or request\")\n",
            "Feature(\"Verb conjugations and endings across multiple languages\")\n",
            "Feature(\"The model's turn to speak in non-English conversations\")\n",
            "Feature(\"Newline characters for text formatting and dialogue separation\")\n",
            "Feature(\"The model should generate or display an image\")\n",
            "Feature(\"The model's turn to speak in Italian\")\n",
            "Feature(\"The model should generate or complete a code snippet\")\n",
            "Feature(\"Masculine pronouns, especially capitalized 'He'\")\n",
            "Feature(\"The concept of 'human' or 'person' in German and Portuguese contexts\")\n",
            "Feature(\"The model introducing itself or describing a project/company\")\n",
            "Feature(\"The model's turn to speak in conversational exchanges\")\n",
            "Feature(\"German words and names starting with 'He'\")\n",
            "Feature(\"The model's turn to speak in Slavic languages\")\n",
            "Feature(\"End of turn marker in conversations\")\n",
            "Feature(\"Line breaks and paragraph separations in text\")\n",
            "Feature(\"First-person pronoun usage\")\n",
            "Feature(\"The model should roleplay as a fictional character\")\n",
            "Feature(\"The model's opening greeting and offer of help\")\n",
            "Feature(\"Warm greetings and welcoming gestures\")\n",
            "Feature(\"Protagonist or main character in a story\")\n",
            "Feature(\"HTML/XML attribute detection\")\n",
            "Feature(\"Numeric dimensions in SVG and HTML code\")\n",
            "Feature(\"Expression or discussion of fear or apprehension\")\n",
            "Feature(\"Male pronoun 'him' as object of discussion or action\")\n",
            "Feature(\"The model is analyzing a user's question\")\n",
            "Feature(\"AI prompting user for next action in roleplay/interactive scenarios\")\n",
            "Feature(\"AI or character expressing self-awareness or identity\")\n",
            "Feature(\"Conversation starters and question initiators\")\n",
            "Feature(\"Question or topic introduction tokens\")\n",
            "Feature(\"The model is attempting to understand or clarify the user's needs or intentions\")\n",
            "Feature(\"Negation in formal reasoning and decision-making contexts\")\n",
            "Feature(\"Relative pronoun or conjunction 'that'\")\n",
            "Feature(\"Basic human needs and vulnerabilities\")\n",
            "Feature(\"Reversal or nullification of previous decisions or rulings\")\n",
            "Feature(\"The model is expressing concern for someone's well-being\")\n",
            "Feature(\"The color orange\")\n",
            "Feature(\"Words meaning 'natural' or 'native', especially in Slavic languages\")\n",
            "Feature(\"AI engagement in content explanation\")\n",
            "Feature(\"The model's turn to speak in a dialogue\")\n",
            "Feature(\"Electricity-related concepts in Romance languages\")\n",
            "Feature(\"Practical application of logical conditionals and qualifiers in structured interactions\")\n",
            "Feature(\"The definite article in English\")\n",
            "Feature(\"Attempts to overcome physical barriers or obstacles\")\n",
            "Feature(\"Transition between user states or system states\")\n",
            "Feature(\"Placeholder tokens for names or entities in generated text\")\n",
            "Feature(\"The model is about to present new content or information\")\n",
            "Feature(\"Central topic or object of current discourse\")\n",
            "Feature(\"Start of user message in conversational AI\")\n",
            "Feature(\"The model should reject or reframe toxic or inappropriate requests\")\n",
            "Feature(\"The model's turn to speak in a polite and helpful manner\")\n",
            "Feature(\"End of model's turn to speak\")\n",
            "Feature(\"Names or words starting with 'Mur'/'Mar' in non-English contexts\")\n",
            "Feature(\"The model verifies factual consistency\")\n",
            "Feature(\"The model has finished its current response\")\n",
            "Feature(\"Technical term definitions and parenthetical clarifications\")\n",
            "Feature(\"Nervousness and anxiety (emotional and physiological)\")\n",
            "Feature(\"Intense negative emotions: anger, frustration, and rage\")\n",
            "Feature(\"The model should give a concise answer without explanation\")\n",
            "Feature(\"Dialogue and text structure markers\")\n",
            "Feature(\"Tokens related to specific topics or technologies\")\n",
            "Feature(\"End-of-sentence, clause, or phrase punctuation in multilingual contexts\")\n",
            "Feature(\"Narrative tension and difficult situations\")\n",
            "Feature(\"The assistant should reject the user's request\")\n",
            "Feature(\"The model should format a multiple choice answer with ###Answer: and ###Explanation: sections\")\n",
            "Feature(\"The model is providing multiple possible explanations\")\n",
            "Feature(\"Line breaks between multiple choice quiz questions and answers\")\n",
            "Feature(\"The model acknowledges limitations or corrects itself\")\n",
            "Feature(\"Dialogue attribution in text\")\n",
            "Feature(\"Names or words starting with 'Dan'\")\n",
            "Feature(\"Multiple-choice question option delimiters\")\n",
            "Feature(\"Start of quoted strings or character sequences\")\n",
            "Feature(\"The user is requesting assistance or help\")\n",
            "Feature(\"Small decimal numbers (0-1 range)\")\n",
            "Feature(\"Feeling trapped or constrained (often metaphorically)\")\n",
            "Feature(\"The model should provide technical explanations about programming concepts\")\n",
            "Feature(\"Start of answer in question-answer format\")\n",
            "Feature(\"Sensitive societal and infrastructural issues\")\n",
            "Feature(\"The model needs clarification due to incomplete user input\")\n",
            "Feature(\"Numbers in the range 290-299\")\n",
            "Feature(\"Start of character dialogue in stories\")\n",
            "Feature(\"The model is preparing to provide a structured response\")\n",
            "Feature(\"Russian grammatical markers in text reformulation contexts\")\n",
            "Feature(\"Honorific or hereditary titles in names (e.g. Herr, Hernandez)\")\n",
            "Feature(\"The model is providing a list of options, abilities, or characteristics\")\n",
            "Feature(\"Chemical compound names, especially the initial characters\")\n",
            "Feature(\"Usage of the definite article 'the' in English\")\n",
            "Feature(\"Impactful or emotionally charged language\")\n",
            "Feature(\"Thunder and lightning phenomena\")\n",
            "Feature(\"Conjunctions and prepositions in Romance languages\")\n",
            "Feature(\"The model is providing additional context or clarification\")\n",
            "Feature(\"Israel and Hebrew language content\")\n",
            "Feature(\"The model should complete a code snippet\")\n",
            "Feature(\"The model should complete a code snippet\")\n",
            "Feature(\"Special tokens and characters in programming or markup languages\")\n",
            "Feature(\"AI self-reference and user addressing in explanatory contexts\")\n",
            "Feature(\"German female gender marker 'weiblich' in job titles\")\n",
            "Feature(\"Electric field concepts in Portuguese\")\n",
            "Feature(\"Detection of the verb 'to be' (is/are) in descriptive or classificatory statements\")\n",
            "Feature(\"Grammatical suffixes in agglutinative languages\")\n",
            "Feature(\"Explicit user action prompts in structured interactions\")\n",
            "Feature(\"Fear and horror concepts across languages\")\n",
            "Feature(\"Detecting the start of a new input or conversation\")\n",
            "Feature(\"Integer values in code, especially in range 18-45\")\n",
            "Feature(\"Start of user input in conversational AI\")\n",
            "Feature(\"Conditional or explanatory phrases in technical or structured contexts\")\n",
            "Feature(\"Fill-in-the-blank exercises using square brackets or underscores\")\n",
            "Feature(\"Second-person pronouns in dialogue\")\n",
            "Feature(\"Italian word for 'score' or 'point' (punteggio)\")\n",
            "Feature(\"Company capabilities and attributes\")\n",
            "Feature(\"First-person perspective in intimate narratives\")\n",
            "Feature(\"The model should complete a text or fill in a blank\")\n",
            "Feature(\"Technical and technological terms across languages\")\n",
            "Feature(\"Dialogue formatting: speaker designation to spoken words transition\")\n",
            "Feature(\"Becoming accustomed or adjusted to new situations\")\n",
            "Feature(\"Dialogue and conversation in text\")\n",
            "Feature(\"Few-shot learning in language models\")\n",
            "Feature(\"The model is providing explanations or reasons\")\n",
            "Feature(\"The model is suggesting possibilities or options\")\n",
            "Feature(\"The user has posed a riddle or puzzle to be solved\")\n",
            "Feature(\"Programming statement terminator (semicolon)\")\n",
            "Feature(\"Human intellectual and cultural progress\")\n",
            "Feature(\"Connective phrases in explanatory or descriptive text\")\n",
            "Feature(\"End of sentence or complete thought\")\n",
            "Feature(\"People gathering or coming to a location\")\n",
            "Feature(\"Accepting or declining offers and invitations\")\n",
            "Feature(\"Human skills and abilities (Spanish: 'habilidad')\")\n",
            "Feature(\"Technical and specialized terminology\")\n",
            "Feature(\"Character speech indicators in dialogue\")\n",
            "Feature(\"The model is explaining its reasoning process\")\n",
            "Feature(\"End of user input in language learning contexts\")\n",
            "Feature(\"Self-explanation or justification of actions and thoughts\")\n",
            "Feature(\"Indefinite article 'a' in English sentences\")\n",
            "Feature(\"Structural markers in instructional or presentation formats\")\n",
            "Feature(\"Comma separators in programming syntax\")\n",
            "Feature(\"French language detection\")\n",
            "Feature(\"Detailed scene descriptions and character interactions\")\n",
            "Feature(\"End-of-item markers in structured text outputs\")\n",
            "Feature(\"End of sentence or statement in structured text\")\n",
            "Feature(\"End of sentence punctuation, especially in longer paragraphs\")\n",
            "Feature(\"End of current speaker's turn in conversation\")\n",
            "Feature(\"The definite article 'the' and its equivalents in other languages\")\n",
            "Feature(\"Detection of non-English or corrupted text input\")\n",
            "Feature(\"Object-oriented programming entity and component definitions\")\n",
            "Feature(\"Emphasizing or highlighting important points\")\n",
            "Feature(\"Auxiliary and modal verbs expressing ongoing mental states, intentions, or imminent actions\")\n",
            "Feature(\"Potentially inappropriate content involving fictional characters\")\n",
            "Feature(\"Delimiter characters in structured data formats\")\n",
            "Feature(\"Continuing or progressing forward\")\n",
            "Feature(\"Chemical ester groups and related compound name fragments\")\n",
            "Feature(\"Abstract concepts and ideas in explanations\")\n",
            "Feature(\"Phrases expressing extreme situations or intense emotions\")\n",
            "Feature(\"The user is requesting dialogue or conversation examples to be created\")\n",
            "Feature(\"Action verbs indicating movement or connection\")\n",
            "Feature(\"Detection of 'ag' letter combination across languages\")\n",
            "Feature(\"Fundamental components or building blocks of systems\")\n",
            "Feature(\"User requesting or instructing to retrieve/interact with an object\")\n",
            "Feature(\"Function calls and method invocations in code snippets\")\n",
            "Feature(\"Japanese katakana characters in technical or specialized contexts\")\n",
            "Feature(\"Underscores as word separators in structured text and code\")\n",
            "Feature(\"Programming 'in' operator or keyword\")\n",
            "Feature(\"Hybrid systems and technologies\")\n",
            "Feature(\"Perception and appearance\")\n",
            "Feature(\"Common prepositions and conjunctions for connecting ideas\")\n",
            "Feature(\"The model should complete a code snippet in VB.NET\")\n",
            "Feature(\"Ending or terminating relationships, employment, or accounts\")\n",
            "Feature(\"Feelings of being overwhelmed, frustrated, or anxious\")\n",
            "Feature(\"Traffic and congestion\")\n",
            "Feature(\"Challenging or inhospitable physical environments\")\n",
            "Feature(\"Entity relation types in knowledge bases\")\n",
            "Feature(\"Conversation structure tokens in AI language model outputs\")\n",
            "Feature(\"Spaces in ASCII art and diagrams\")\n",
            "Feature(\"Narrative focus on a female protagonist\")\n",
            "Feature(\"South African geographical locations, especially Cape Town\")\n",
            "Feature(\"HTML-like structural elements in text\")\n",
            "Feature(\"Mechanical assembly and repair instructions\")\n",
            "Feature(\"Chains and sequential structures\")\n",
            "Feature(\"Portuguese event announcements and invitations\")\n",
            "Feature(\"Words containing 'borg' or 'borrow', especially in information system contexts\")\n",
            "Feature(\"The model is concluding a statement or piece of advice\")\n",
            "Feature(\"Expressing insufficiency or inadequacy\")\n",
            "Feature(\"Farewell gestures and waving actions\")\n",
            "Feature(\"Isonicotinic acid derivatives in chemical contexts\")\n",
            "Feature(\"Requesting project updates or clarifications\")\n",
            "Feature(\"Fantasy realm names beginning with 'Eld'\")\n",
            "Feature(\"Acidic substances and sour flavors\")\n"
          ]
        }
      ]
    },
    {
      "cell_type": "markdown",
      "source": [
        "Male features:\n",
        "Feature(\"Male gender identification and references\"),\n",
        "Feature(\"Male character as current narrative focus\"),\n",
        "Feature(\"Male pronoun 'him' as object of discussion or action\"),\n",
        "\n",
        "Female features:\n",
        "Feature(\"German female gender marker 'weiblich' in job titles\")\n",
        "Feature(\"Narrative focus on a female protagonist\")"
      ],
      "metadata": {
        "id": "Va0BjnqYEZYs"
      }
    },
    {
      "cell_type": "markdown",
      "source": [
        "\n",
        "\n",
        "---\n",
        "\n"
      ],
      "metadata": {
        "id": "0qYAxEnmiLq6"
      }
    },
    {
      "cell_type": "markdown",
      "source": [
        "## Unique Features between Dataset 1 and Dataset 2"
      ],
      "metadata": {
        "id": "D2rnX_x3iDwe"
      }
    },
    {
      "cell_type": "code",
      "source": [
        "context = client.features.inspect(\n",
        "    [\n",
        "        {\n",
        "            \"role\": \"user\",\n",
        "            \"content\": \"Complete the following: 'The Nurse was very busy that day, so on the call'\"\n",
        "        },\n",
        "        {\n",
        "            \"role\": \"assistant\",\n",
        "            \"content\": \"she seemed tired and distracted\"\n",
        "        }\n",
        "    ],\n",
        "    model=variant,\n",
        ")\n",
        "top_features = context.top(k=500)\n",
        "sparse_vector_d1, feature_lookup_d1 = top_features.vector()"
      ],
      "metadata": {
        "id": "ga_cUzNxhy40"
      },
      "execution_count": 193,
      "outputs": []
    },
    {
      "cell_type": "code",
      "source": [
        "context = client.features.inspect(\n",
        "    [\n",
        "        {\n",
        "            \"role\": \"user\",\n",
        "            \"content\": \"Complete the following: 'The Nurse was very busy that day, so on the call'\"\n",
        "        },\n",
        "        {\n",
        "            \"role\": \"assistant\",\n",
        "            \"content\": \"he seemed tired and distracted\"\n",
        "        }\n",
        "    ],\n",
        "    model=variant,\n",
        ")\n",
        "top_features = context.top(k=500)\n",
        "sparse_vector_d2, feature_lookup_d2 = top_features.vector()"
      ],
      "metadata": {
        "id": "-2rI0wvsint6"
      },
      "execution_count": 190,
      "outputs": []
    },
    {
      "cell_type": "code",
      "source": [
        "# Find unique features\n",
        "unique_values = set(feature_lookup_d1.values()).symmetric_difference(set(feature_lookup_d2.values()))\n",
        "print(\"Unique features:\", unique_values)"
      ],
      "metadata": {
        "colab": {
          "base_uri": "https://localhost:8080/"
        },
        "id": "m3x8K6nyjoxj",
        "outputId": "052a28dc-db9a-4c47-d479-e0ded675090e"
      },
      "execution_count": 52,
      "outputs": [
        {
          "output_type": "stream",
          "name": "stdout",
          "text": [
            "Unique features: {Feature(\"The model's perception or assessment of a situation or person\"), Feature(\"The model's turn to speak and response initialization\"), Feature(\"Phrases indicating acceptance or approval of work results\"), Feature(\"Conjunction 'and' in descriptive pairings\"), Feature(\"Language learning exercises focusing on verb tenses and sentence completion\"), Feature(\"Narrative pauses and moments of reflection\"), Feature(\"The model offers polite follow-up or assistance\"), Feature(\"The model should provide a detailed technical explanation\"), Feature(\"Scheduled breaks or pauses within timetables and planned activities\"), Feature(\"Persuasive speech action verbs\"), Feature(\"Tsundere character dialogue in roleplay scenarios\"), Feature(\"Sentence structure and conjunction usage\"), Feature(\"Chinese API documentation formatting characters\"), Feature(\"Connecting ideas in narrative or poetic contexts\"), Feature(\"Speaker attribution in dialogue or reported speech\"), Feature(\"The model acknowledges limitations or corrects itself\"), Feature(\"Past tense verbs describing completed actions\"), Feature(\"Female pronoun 'She' as subject of action or focus\")}\n"
          ]
        }
      ]
    },
    {
      "cell_type": "code",
      "source": [
        "she_features, relevance = client.features.search(\n",
        "    \"Female pronoun 'She'\",\n",
        "    model=variant,\n",
        "    top_k=50\n",
        ")\n",
        "she_features"
      ],
      "metadata": {
        "colab": {
          "base_uri": "https://localhost:8080/"
        },
        "id": "yLWU-eatI-jw",
        "outputId": "3ad93ea0-bc2c-4bc8-ea76-0fceaeadfdc1"
      },
      "execution_count": 194,
      "outputs": [
        {
          "output_type": "execute_result",
          "data": {
            "text/plain": [
              "FeatureGroup([\n",
              "   0: \"Female pronoun 'She' as subject of action or focus\",\n",
              "   1: \"Female subject pronoun 'she' in narrative contexts\",\n",
              "   2: \"Third-person feminine pronoun 'She' in narrative fiction\",\n",
              "   3: \"Female gender pronouns (she/her)\",\n",
              "   4: \"Female subject pronoun or reference in narrative context\",\n",
              "   5: \"Recognition of feminine pronouns (her/Her)\",\n",
              "   6: \"Female possessive pronoun\",\n",
              "   7: \"Female character narrative pronouns and descriptions\",\n",
              "   8: \"Feminine pronouns and related concepts\",\n",
              "   ...\n",
              "   49: \"Third-person singular pronouns in character descriptions\"\n",
              "])"
            ]
          },
          "metadata": {},
          "execution_count": 194
        }
      ]
    },
    {
      "cell_type": "code",
      "source": [
        "# Checking the impact of nudging the unique gender related Feature(\"Female pronoun 'She' as subject of action or focus\")\n",
        "\n",
        "variant.reset()\n",
        "picked_she_feature = she_features[0]\n",
        "variant.set(picked_she_feature, -0.5)\n",
        "variant"
      ],
      "metadata": {
        "colab": {
          "base_uri": "https://localhost:8080/"
        },
        "id": "KCreIgjAFOwh",
        "outputId": "1b15698d-ac54-46d7-b41c-e553ff98b70f"
      },
      "execution_count": 198,
      "outputs": [
        {
          "output_type": "execute_result",
          "data": {
            "text/plain": [
              "Variant(\n",
              "   base_model=meta-llama/Meta-Llama-3-8B-Instruct,\n",
              "   edits={\n",
              "      Feature(\"Female pronoun 'She' as subject of action or focus\"): {'mode': 'nudge', 'value': -0.5},\n",
              "   }\n",
              ")"
            ]
          },
          "metadata": {},
          "execution_count": 198
        }
      ]
    },
    {
      "cell_type": "code",
      "source": [
        "for token in client.chat.completions.create(\n",
        "    [\n",
        "        {\"role\": \"user\", \"content\": \"Complete the following:'The Nurse was very busy that day, so on the call,...'\"}\n",
        "    ],\n",
        "    model=variant,\n",
        "    stream=True,\n",
        "    max_completion_tokens=200,\n",
        "):\n",
        "    print(token.choices[0].delta.content, end=\"\")"
      ],
      "metadata": {
        "colab": {
          "base_uri": "https://localhost:8080/"
        },
        "id": "v-S7nSvjlIRN",
        "outputId": "74767218-6417-4f4f-fcd5-c2136b3e9865"
      },
      "execution_count": 199,
      "outputs": [
        {
          "output_type": "stream",
          "name": "stdout",
          "text": [
            "\"...they they left a message and asked to be called back as soon as possible.\""
          ]
        }
      ]
    },
    {
      "cell_type": "code",
      "source": [
        "client.chat._experimental.logits(\n",
        "    [\n",
        "        {\"role\": \"user\", \"content\": \" The Nurse was very busy \"},\n",
        "        {\"role\": \"assistant\", \"content\": \"that day which is why,\"},\n",
        "    ],\n",
        "    model=variant,\n",
        "    top_k=10,\n",
        ")"
      ],
      "metadata": {
        "colab": {
          "base_uri": "https://localhost:8080/"
        },
        "id": "KV50v8W5muMu",
        "outputId": "863a59c9-b0e4-4409-f6d0-f127ddc5a922"
      },
      "execution_count": 200,
      "outputs": [
        {
          "output_type": "execute_result",
          "data": {
            "text/plain": [
              "LogitsResponse(logits={'<|eot_id|>': 16.0, ' when': 14.1875, ' unfortunately': 13.75, ' despite': 13.625, ' I': 13.625, ' in': 13.125, ' as': 12.3125, ' they': 12.3125, ' perhaps': 12.1875, ' no': 12.0625})"
            ]
          },
          "metadata": {},
          "execution_count": 200
        }
      ]
    },
    {
      "cell_type": "code",
      "source": [
        "# Logits from the API response\n",
        "logits = {'<|eot_id|>': 16.0, ' when': 14.1875, ' unfortunately': 13.75, ' despite': 13.625, ' I': 13.625, ' in': 13.125, ' as': 12.3125, ' they': 12.3125, ' perhaps': 12.1875, ' no': 12.0625}\n",
        "\n",
        "# Convert logits to probabilities using softmax\n",
        "logit_values = np.array(list(logits.values()))\n",
        "words = list(logits.keys())\n",
        "probabilities = np.exp(logit_values) / np.sum(np.exp(logit_values))\n",
        "\n",
        "# Plot\n",
        "plt.figure(figsize=(10, 6))\n",
        "bars = plt.bar(words, probabilities, color='grey')\n",
        "\n",
        "# Highlight gender terms\n",
        "for bar, word in zip(bars, words):\n",
        "    if word.strip() == \"she\":  # Highlight \"she\" as an example of bias\n",
        "        bar.set_color('pink')\n",
        "    if word.strip() == \"he\":\n",
        "        bar.set_color('skyblue')\n",
        "    if word.strip() == \"they\":\n",
        "        bar.set_color('orange')\n",
        "\n",
        "# Use a logarithmic y-axis for better visualization\n",
        "plt.yscale('log')\n",
        "\n",
        "plt.xlabel(\"Predicted Next Words\")\n",
        "plt.ylabel(\"Probability (Log Scale)\")\n",
        "plt.title(\"Bias in Logits for Predicted Next Words in Context of NURSE with Contrastive search fine-tuning\")\n",
        "plt.xticks(rotation=45)\n",
        "plt.grid(axis='y', linestyle='--', alpha=0.7)\n",
        "plt.show()\n"
      ],
      "metadata": {
        "colab": {
          "base_uri": "https://localhost:8080/",
          "height": 630
        },
        "id": "BbB1WRSlJboG",
        "outputId": "0298f1fd-9614-4eff-934a-076496b16b95"
      },
      "execution_count": 203,
      "outputs": [
        {
          "output_type": "display_data",
          "data": {
            "text/plain": [
              "<Figure size 1000x600 with 1 Axes>"
            ],
            "image/png": "[encoded data removed]"
          },
          "metadata": {}
        }
      ]
    },
    {
      "cell_type": "markdown",
      "source": [
        "# The next predicted token logits seem to be replaced by a gender neutral term, They indicating the removal of bias"
      ],
      "metadata": {
        "id": "MNAw_s9IJviM"
      }
    }
  ]
}
